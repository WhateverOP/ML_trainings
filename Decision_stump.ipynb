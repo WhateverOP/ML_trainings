{
 "cells": [
  {
   "cell_type": "code",
   "execution_count": 1,
   "metadata": {},
   "outputs": [],
   "source": [
    "import sys\n",
    "import numpy as np"
   ]
  },
  {
   "cell_type": "code",
   "execution_count": null,
   "metadata": {},
   "outputs": [],
   "source": [
    "# Ввод\n",
    "# 4\n",
    "# 0 1\n",
    "# 1 1\n",
    "# 2 0\n",
    "# 3 0\n",
    "\n",
    "# Вывод\n",
    "# 1.0000000 0.0000000 1.5000000"
   ]
  },
  {
   "cell_type": "code",
   "execution_count": 30,
   "metadata": {},
   "outputs": [
    {
     "name": "stdout",
     "output_type": "stream",
     "text": [
      "[[0, 1], [1, 1], [2, 0], [3, 0]]\n"
     ]
    }
   ],
   "source": [
    "n = int(input())\n",
    "x_y_arr = []\n",
    "for i in range(n):\n",
    "    line = input()\n",
    "    line_int = [int(i) for i in line.split(' ')]\n",
    "    x_y_arr.append(line_int)\n",
    "print(x_y_arr)"
   ]
  },
  {
   "cell_type": "code",
   "execution_count": 34,
   "metadata": {},
   "outputs": [],
   "source": [
    "def calc_Loss(a, b, c, x, y):\n",
    "    sum_f_x_y_2 = 0\n",
    "    for i in range(n):\n",
    "        f_x = 0\n",
    "        if x[i] < c:\n",
    "            f_x = a\n",
    "        else:\n",
    "            f_x = b\n",
    "        sum_f_x_y_2 += (f_x - y[i])**2\n",
    "    return np.sqrt(sum_f_x_y_2 / n)"
   ]
  },
  {
   "cell_type": "code",
   "execution_count": 31,
   "metadata": {},
   "outputs": [
    {
     "name": "stdout",
     "output_type": "stream",
     "text": [
      "1.0 0.0 2\n"
     ]
    }
   ],
   "source": [
    "x_splits = [x_y_arr[i][0] for i in range(len(x_y_arr))]\n",
    "init_variance = np.var(np.array(x_y_arr).T[1])\n",
    "variance_reduction = []\n",
    "y_splited_arr = []\n",
    "best_c_index = 0\n",
    "for c in x_splits:\n",
    "    split_1 = []\n",
    "    split_2 = []\n",
    "    for i in range(0, len(x_y_arr)):\n",
    "        if x_y_arr[i][0] < c:\n",
    "            split_1.append(x_y_arr[i][1])\n",
    "        else:\n",
    "            split_2.append(x_y_arr[i][1])\n",
    "    y_splited_arr.append([split_1, split_2])\n",
    "    if len(split_1) == 0:\n",
    "        var_1 = 0\n",
    "    else:\n",
    "        var_1 = np.var(split_1)\n",
    "    if len(split_2) == 0:\n",
    "        var_2 = 0\n",
    "    else:\n",
    "        var_2 = np.var(split_2)\n",
    "    var_reduction = init_variance - ((len(split_1) / len(x_y_arr)) * var_1 + (len(split_2) / len(x_y_arr)) * var_2)\n",
    "    variance_reduction.append(var_reduction)\n",
    "best_c_index = np.argmax(variance_reduction)\n",
    "best_split = y_splited_arr[best_c_index]\n",
    "c = x_splits[best_c_index]\n",
    "a = np.mean(best_split[0])\n",
    "b = np.mean(best_split[1])\n",
    "\n",
    "print(a, b, c)"
   ]
  },
  {
   "cell_type": "code",
   "execution_count": 36,
   "metadata": {},
   "outputs": [
    {
     "data": {
      "text/plain": [
       "0.0"
      ]
     },
     "execution_count": 36,
     "metadata": {},
     "output_type": "execute_result"
    }
   ],
   "source": [
    "calc_Loss(a, b, c, x_splits, np.array(x_y_arr).T[1])"
   ]
  },
  {
   "cell_type": "code",
   "execution_count": 38,
   "metadata": {},
   "outputs": [
    {
     "data": {
      "text/plain": [
       "0.0"
      ]
     },
     "execution_count": 38,
     "metadata": {},
     "output_type": "execute_result"
    }
   ],
   "source": [
    "calc_Loss(a, b, 1.5, x_splits, np.array(x_y_arr).T[1])"
   ]
  },
  {
   "cell_type": "code",
   "execution_count": 32,
   "metadata": {},
   "outputs": [
    {
     "data": {
      "text/plain": [
       "[0.0, 0.08333333333333331, 0.25, 0.08333333333333331]"
      ]
     },
     "execution_count": 32,
     "metadata": {},
     "output_type": "execute_result"
    }
   ],
   "source": [
    "variance_reduction"
   ]
  },
  {
   "cell_type": "code",
   "execution_count": 35,
   "metadata": {},
   "outputs": [
    {
     "data": {
      "text/plain": [
       "array([1, 1, 0, 0])"
      ]
     },
     "execution_count": 35,
     "metadata": {},
     "output_type": "execute_result"
    }
   ],
   "source": []
  },
  {
   "cell_type": "code",
   "execution_count": null,
   "metadata": {},
   "outputs": [],
   "source": []
  }
 ],
 "metadata": {
  "kernelspec": {
   "display_name": "test_env",
   "language": "python",
   "name": "python3"
  },
  "language_info": {
   "codemirror_mode": {
    "name": "ipython",
    "version": 3
   },
   "file_extension": ".py",
   "mimetype": "text/x-python",
   "name": "python",
   "nbconvert_exporter": "python",
   "pygments_lexer": "ipython3",
   "version": "3.10.13"
  }
 },
 "nbformat": 4,
 "nbformat_minor": 2
}
